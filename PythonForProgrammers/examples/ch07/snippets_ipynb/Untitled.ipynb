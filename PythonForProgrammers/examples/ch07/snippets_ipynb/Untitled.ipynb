{
 "cells": [
  {
   "cell_type": "code",
   "execution_count": 1,
   "metadata": {},
   "outputs": [
    {
     "name": "stdout",
     "output_type": "stream",
     "text": [
      "\u001b[0m\u001b[01;32m07_02.ipynb\u001b[0m*  \u001b[01;32m07_06.ipynb\u001b[0m*  \u001b[01;32m07_10.ipynb\u001b[0m*  \u001b[01;32m07_14.01.ipynb\u001b[0m*\n",
      "\u001b[01;32m07_03.ipynb\u001b[0m*  \u001b[01;32m07_07.ipynb\u001b[0m*  \u001b[01;32m07_11.ipynb\u001b[0m*  \u001b[01;32m07_14.02.ipynb\u001b[0m*\n",
      "\u001b[01;32m07_04.ipynb\u001b[0m*  \u001b[01;32m07_08.ipynb\u001b[0m*  \u001b[01;32m07_12.ipynb\u001b[0m*  \u001b[01;34mfiles\u001b[0m/\n",
      "\u001b[01;32m07_05.ipynb\u001b[0m*  \u001b[01;32m07_09.ipynb\u001b[0m*  \u001b[01;32m07_13.ipynb\u001b[0m*  Untitled.ipynb\n"
     ]
    }
   ],
   "source": [
    "%ls\n"
   ]
  },
  {
   "cell_type": "code",
   "execution_count": 2,
   "metadata": {},
   "outputs": [
    {
     "name": "stdout",
     "output_type": "stream",
     "text": [
      "\u001b[0m\u001b[01;32m07_02.ipynb\u001b[0m*  \u001b[01;32m07_06.ipynb\u001b[0m*  \u001b[01;32m07_10.ipynb\u001b[0m*  \u001b[01;32m07_14.01.ipynb\u001b[0m*\n",
      "\u001b[01;32m07_03.ipynb\u001b[0m*  \u001b[01;32m07_07.ipynb\u001b[0m*  \u001b[01;32m07_11.ipynb\u001b[0m*  \u001b[01;32m07_14.02.ipynb\u001b[0m*\n",
      "\u001b[01;32m07_04.ipynb\u001b[0m*  \u001b[01;32m07_08.ipynb\u001b[0m*  \u001b[01;32m07_12.ipynb\u001b[0m*  \u001b[01;34mfiles\u001b[0m/\n",
      "\u001b[01;32m07_05.ipynb\u001b[0m*  \u001b[01;32m07_09.ipynb\u001b[0m*  \u001b[01;32m07_13.ipynb\u001b[0m*  Untitled.ipynb\n"
     ]
    }
   ],
   "source": [
    "ls"
   ]
  },
  {
   "cell_type": "code",
   "execution_count": null,
   "metadata": {},
   "outputs": [],
   "source": []
  }
 ],
 "metadata": {
  "kernelspec": {
   "display_name": "Python 3",
   "language": "python",
   "name": "python3"
  },
  "language_info": {
   "codemirror_mode": {
    "name": "ipython",
    "version": 3
   },
   "file_extension": ".py",
   "mimetype": "text/x-python",
   "name": "python",
   "nbconvert_exporter": "python",
   "pygments_lexer": "ipython3",
   "version": "3.7.6"
  }
 },
 "nbformat": 4,
 "nbformat_minor": 4
}
